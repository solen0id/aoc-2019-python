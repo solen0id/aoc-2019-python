{
 "cells": [
  {
   "cell_type": "markdown",
   "metadata": {},
   "source": [
    "**--- Part Two ---**\n",
    "\n",
    "\"Good, the new computer seems to be working correctly! Keep it nearby during this mission - you'll probably use it again. Real Intcode computers support many more features than your new one, but we'll let you know what they are as you need them.\"\n",
    "\n",
    "\"However, your current priority should be to complete your gravity assist around the Moon. For this mission to succeed, we should settle on some terminology for the parts you've already built.\"\n",
    "\n",
    "Intcode programs are given as a list of integers; these values are used as the initial state for the computer's memory. When you run an Intcode program, make sure to start by initializing memory to the program's values. A position in memory is called an address (for example, the first value in memory is at \"address 0\").\n",
    "\n",
    "Opcodes (like 1, 2, or 99) mark the beginning of an instruction. The values used immediately after an opcode, if any, are called the instruction's parameters. For example, in the instruction 1,2,3,4, 1 is the opcode; 2, 3, and 4 are the parameters. The instruction 99 contains only an opcode and has no parameters.\n",
    "\n",
    "The address of the current instruction is called the instruction pointer; it starts at 0. After an instruction finishes, the instruction pointer increases by the number of values in the instruction; until you add more instructions to the computer, this is always 4 (1 opcode + 3 parameters) for the add and multiply instructions. (The halt instruction would increase the instruction pointer by 1, but it halts the program instead.)\n",
    "\n",
    "\"With terminology out of the way, we're ready to proceed. To complete the gravity assist, you need to determine what pair of inputs produces the output 19690720.\"\n",
    "\n",
    "The inputs should still be provided to the program by replacing the values at addresses 1 and 2, just like before. In this program, the value placed in address 1 is called the noun, and the value placed in address 2 is called the verb. Each of the two input values will be between 0 and 99, inclusive.\n",
    "\n",
    "Once the program has halted, its output is available at address 0, also just like before. Each time you try a pair of inputs, make sure you first reset the computer's memory to the values in the program (your puzzle input) - in other words, don't reuse memory from a previous attempt.\n",
    "\n",
    "Find the input noun and verb that cause the program to produce the output 19690720. What is 100 * noun + verb? (For example, if noun=12 and verb=2, the answer would be 1202.)"
   ]
  },
  {
   "cell_type": "code",
   "execution_count": 12,
   "metadata": {},
   "outputs": [],
   "source": [
    "OPERATIONS = {\n",
    "    1: lambda x, y: x + y, \n",
    "    2: lambda x, y: x * y,\n",
    "}\n",
    "\n",
    "def run_intcode(intcode, current_address=0):\n",
    "    opcode = intcode[current_address]\n",
    "    \n",
    "    if opcode == 99:\n",
    "        return intcode\n",
    "    \n",
    "    param_1_address, param_2_address, result_address = intcode[current_address+1:current_address+4]\n",
    "    operand_1, operand_2 = intcode[param_1_address], intcode[param_2_address]\n",
    "    operation = OPERATIONS.get(opcode)\n",
    "\n",
    "    intcode[result_address] = operation(operand_1, operand_2)\n",
    "    \n",
    "    return run_intcode(intcode, current_address+4)"
   ]
  },
  {
   "cell_type": "code",
   "execution_count": 13,
   "metadata": {},
   "outputs": [
    {
     "name": "stdout",
     "output_type": "stream",
     "text": [
      "2347\n"
     ]
    }
   ],
   "source": [
    "from pathlib import Path\n",
    "initial_memory = [int(elem) for elem in Path('input.txt').read_text().split(',')]\n",
    "\n",
    "for noun in range(0, 100):\n",
    "    for verb in range(0, 100):\n",
    "        \n",
    "        memory = initial_memory.copy()\n",
    "        memory[1] = noun\n",
    "        memory[2] = verb\n",
    "        \n",
    "        if run_intcode(memory)[0] == 19690720:\n",
    "            print(100 * noun + verb)"
   ]
  }
 ],
 "metadata": {
  "kernelspec": {
   "display_name": "research",
   "language": "python",
   "name": "research"
  },
  "language_info": {
   "codemirror_mode": {
    "name": "ipython",
    "version": 3
   },
   "file_extension": ".py",
   "mimetype": "text/x-python",
   "name": "python",
   "nbconvert_exporter": "python",
   "pygments_lexer": "ipython3",
   "version": "3.6.2"
  }
 },
 "nbformat": 4,
 "nbformat_minor": 4
}
