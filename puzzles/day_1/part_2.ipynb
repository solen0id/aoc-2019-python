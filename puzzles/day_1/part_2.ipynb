{
 "cells": [
  {
   "cell_type": "markdown",
   "metadata": {},
   "source": [
    "**--- Part Two ---**\n",
    "During the second Go / No Go poll, the Elf in charge of the Rocket Equation Double-Checker stops the launch sequence. Apparently, you forgot to include additional fuel for the fuel you just added.\n",
    "\n",
    "Fuel itself requires fuel just like a module - take its mass, divide by three, round down, and subtract 2. However, that fuel also requires fuel, and that fuel requires fuel, and so on. Any mass that would require negative fuel should instead be treated as if it requires zero fuel; the remaining mass, if any, is instead handled by wishing really hard, which has no mass and is outside the scope of this calculation.\n",
    "\n",
    "So, for each module mass, calculate its fuel and add it to the total. Then, treat the fuel amount you just calculated as the input mass and repeat the process, continuing until a fuel requirement is zero or negative. For example:\n",
    "\n",
    "A module of mass 14 requires 2 fuel. This fuel requires no further fuel (2 divided by 3 and rounded down is 0, which would call for a negative fuel), so the total fuel required is still just 2.\n",
    "At first, a module of mass 1969 requires 654 fuel. Then, this fuel requires 216 more fuel (654 / 3 - 2). 216 then requires 70 more fuel, which requires 21 fuel, which requires 5 fuel, which requires no further fuel. So, the total fuel required for a module of mass 1969 is 654 + 216 + 70 + 21 + 5 = 966.\n",
    "The fuel required by a module of mass 100756 and its fuel is: 33583 + 11192 + 3728 + 1240 + 411 + 135 + 43 + 12 + 2 = 50346.\n",
    "What is the sum of the fuel requirements for all of the modules on your spacecraft when also taking into account the mass of the added fuel? (Calculate the fuel requirements for each module separately, then add them all up at the end.)\n"
   ]
  },
  {
   "cell_type": "code",
   "execution_count": 1,
   "metadata": {},
   "outputs": [],
   "source": [
    "import time\n",
    "from pathlib import Path\n",
    "\n",
    "in_file = Path('input.txt')\n",
    "module_masses = in_file.read_text().split()"
   ]
  },
  {
   "cell_type": "code",
   "execution_count": 2,
   "metadata": {},
   "outputs": [
    {
     "data": {
      "text/plain": [
       "50346"
      ]
     },
     "execution_count": 2,
     "metadata": {},
     "output_type": "execute_result"
    },
    {
     "data": {
      "text/plain": [
       "50346"
      ]
     },
     "execution_count": 2,
     "metadata": {},
     "output_type": "execute_result"
    }
   ],
   "source": [
    "def calculate_required_fuel(mass):\n",
    "    return int(mass) // 3 - 2\n",
    "\n",
    "def calculate_required_fuel_recursive(mass, cumulative_fuel=0):\n",
    "    fuel = calculate_required_fuel(mass)\n",
    "    \n",
    "    if fuel <= 0:\n",
    "        return cumulative_fuel\n",
    "    \n",
    "    cumulative_fuel += fuel\n",
    "    return calculate_required_fuel_recursive(fuel, cumulative_fuel)\n",
    "\n",
    "def calculate_required_fuel_iterative(mass):\n",
    "    fuel_for_mass = calculate_required_fuel(mass)\n",
    "    fuel_for_fuel = calculate_required_fuel(fuel_for_mass)\n",
    "    \n",
    "    while fuel_for_fuel > 0:\n",
    "        fuel_for_mass += fuel_for_fuel\n",
    "        fuel_for_fuel = calculate_required_fuel(fuel_for_fuel)\n",
    "    \n",
    "    return fuel_for_mass\n",
    "    \n",
    "\n",
    "calculate_required_fuel_recursive(100756)\n",
    "calculate_required_fuel_iterative(100756)"
   ]
  },
  {
   "cell_type": "code",
   "execution_count": 3,
   "metadata": {},
   "outputs": [
    {
     "name": "stdout",
     "output_type": "stream",
     "text": [
      "Timing recursive implementation\n",
      "0.00036\n",
      "Timing iterative implementation\n",
      "0.00020\n"
     ]
    }
   ],
   "source": [
    "print(\"Timing recursive implementation\")\n",
    "start_time = time.time()\n",
    "_ = calculate_required_fuel_recursive(1e50)\n",
    "seconds_elapsed = time.time() - start_time\n",
    "print(f'{seconds_elapsed:2.5f}')\n",
    "\n",
    "print(\"Timing iterative implementation\")\n",
    "start_time = time.time()\n",
    "_ = calculate_required_fuel_iterative(1e50)\n",
    "seconds_elapsed = time.time() - start_time\n",
    "print(f'{seconds_elapsed:2.5f}')"
   ]
  },
  {
   "cell_type": "code",
   "execution_count": 4,
   "metadata": {},
   "outputs": [
    {
     "data": {
      "text/plain": [
       "4847351"
      ]
     },
     "execution_count": 4,
     "metadata": {},
     "output_type": "execute_result"
    }
   ],
   "source": [
    "required_fuel_per_module = [calculate_required_fuel_recursive(mass) for mass in module_masses]\n",
    "total_required_fuel = sum(required_fuel_per_module)\n",
    "\n",
    "total_required_fuel"
   ]
  }
 ],
 "metadata": {
  "kernelspec": {
   "display_name": "research",
   "language": "python",
   "name": "research"
  },
  "language_info": {
   "codemirror_mode": {
    "name": "ipython",
    "version": 3
   },
   "file_extension": ".py",
   "mimetype": "text/x-python",
   "name": "python",
   "nbconvert_exporter": "python",
   "pygments_lexer": "ipython3",
   "version": "3.6.2"
  }
 },
 "nbformat": 4,
 "nbformat_minor": 4
}
