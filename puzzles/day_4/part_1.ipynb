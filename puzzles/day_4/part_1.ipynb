{
 "cells": [
  {
   "cell_type": "code",
   "execution_count": 11,
   "metadata": {},
   "outputs": [
    {
     "data": {
      "text/plain": [
       "2090"
      ]
     },
     "execution_count": 11,
     "metadata": {},
     "output_type": "execute_result"
    }
   ],
   "source": [
    "class Constraint:\n",
    "    \n",
    "    def __init__(self, func):\n",
    "        self.func = func\n",
    "        \n",
    "    def holds_true(self, *args, **kwargs):\n",
    "        return self.func(*args, **kwargs)\n",
    "    \n",
    "class Password:\n",
    "    \n",
    "    def __init__(self, value, constraints=None):\n",
    "        self.value = value\n",
    "        self.constraints = constraints if constraints else []\n",
    "        \n",
    "    def checks_out(self):\n",
    "        return all(constraint.holds_true(self.value) for constraint in self.constraints)\n",
    "\n",
    "\n",
    "def has_n_digits(x, n=6):\n",
    "    return len(str(x)) == n\n",
    "\n",
    "def is_in_range(x, lower=130254, upper=678275):\n",
    "    x = int(x)\n",
    "    return lower <= x <= upper\n",
    "\n",
    "def has_bigram_of_same_digits(x):\n",
    "    x = str(x)\n",
    "    bigrams = zip(x, x[1:])\n",
    "    return any(len(set(bigram)) == 1 for bigram in bigrams)\n",
    "\n",
    "def digits_dont_decrease_left_to_right(x):\n",
    "    x = str(x)\n",
    "    last_digit = x[0]\n",
    "    \n",
    "    for digit in x:\n",
    "        if digit < last_digit:\n",
    "            return False\n",
    "        last_digit = digit\n",
    "    \n",
    "    return True\n",
    " \n",
    "\n",
    "\n",
    "constraints = [\n",
    "    Constraint(func=has_n_digits),\n",
    "    Constraint(func=is_in_range),\n",
    "    Constraint(func=has_bigram_of_same_digits),\n",
    "    Constraint(func=digits_dont_decrease_left_to_right),\n",
    "]\n",
    "\n",
    "lower, upper = 130254, 678275\n",
    "\n",
    "passwords = [pw for i in range(lower, upper+1) if (pw := Password(value=i, constraints=constraints)).checks_out()]\n",
    "len(passwords)"
   ]
  }
 ],
 "metadata": {
  "kernelspec": {
   "display_name": "aoc",
   "language": "python",
   "name": "aoc"
  },
  "language_info": {
   "codemirror_mode": {
    "name": "ipython",
    "version": 3
   },
   "file_extension": ".py",
   "mimetype": "text/x-python",
   "name": "python",
   "nbconvert_exporter": "python",
   "pygments_lexer": "ipython3",
   "version": "3.8.0"
  }
 },
 "nbformat": 4,
 "nbformat_minor": 2
}
