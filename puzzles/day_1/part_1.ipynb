{
 "cells": [
  {
   "cell_type": "markdown",
   "metadata": {},
   "source": [
    "**--- Day 1: The Tyranny of the Rocket Equation ---**\n",
    "\n",
    "Santa has become stranded at the edge of the Solar System while delivering presents to other planets! To accurately calculate his position in space, safely align his warp drive, and return to Earth in time to save Christmas, he needs you to bring him measurements from fifty stars.\n",
    "\n",
    "Collect stars by solving puzzles. Two puzzles will be made available on each day in the Advent calendar; the second puzzle is unlocked when you complete the first. Each puzzle grants one star. Good luck!\n",
    "\n",
    "The Elves quickly load you into a spacecraft and prepare to launch.\n",
    "\n",
    "At the first Go / No Go poll, every Elf is Go until the Fuel Counter-Upper. They haven't determined the amount of fuel required yet.\n",
    "\n",
    "Fuel required to launch a given module is based on its mass. Specifically, to find the fuel required for a module, take its mass, divide by three, round down, and subtract 2.\n",
    "\n",
    "For example:\n",
    "\n",
    "For a mass of 12, divide by 3 and round down to get 4, then subtract 2 to get 2.  \n",
    "For a mass of 14, dividing by 3 and rounding down still yields 4, so the fuel required is also 2.  \n",
    "For a mass of 1969, the fuel required is 654.  \n",
    "For a mass of 100756, the fuel required is 33583.  \n",
    "The Fuel Counter-Upper needs to know the total fuel requirement. To find it, individually calculate the fuel needed for the mass of each module (your puzzle input), then add together all the fuel values.  \n",
    "\n",
    "What is the sum of the fuel requirements for all of the modules on your spacecraft?"
   ]
  },
  {
   "cell_type": "code",
   "execution_count": 1,
   "metadata": {},
   "outputs": [],
   "source": [
    "from pathlib import Path\n",
    "\n",
    "in_file = Path('input.txt')\n",
    "module_masses = in_file.read_text().split()"
   ]
  },
  {
   "cell_type": "code",
   "execution_count": 2,
   "metadata": {},
   "outputs": [],
   "source": [
    "def calculate_required_fuel(mass):\n",
    "    return int(mass) // 3 - 2"
   ]
  },
  {
   "cell_type": "code",
   "execution_count": 3,
   "metadata": {},
   "outputs": [
    {
     "data": {
      "text/plain": [
       "3233481"
      ]
     },
     "execution_count": 3,
     "metadata": {},
     "output_type": "execute_result"
    }
   ],
   "source": [
    "required_fuel_per_module = [calculate_required_fuel(mass) for mass in module_masses]\n",
    "total_required_fuel = sum(required_fuel_per_module)\n",
    "\n",
    "total_required_fuel"
   ]
  }
 ],
 "metadata": {
  "kernelspec": {
   "display_name": "research",
   "language": "python",
   "name": "research"
  },
  "language_info": {
   "codemirror_mode": {
    "name": "ipython",
    "version": 3
   },
   "file_extension": ".py",
   "mimetype": "text/x-python",
   "name": "python",
   "nbconvert_exporter": "python",
   "pygments_lexer": "ipython3",
   "version": "3.6.2"
  }
 },
 "nbformat": 4,
 "nbformat_minor": 4
}
