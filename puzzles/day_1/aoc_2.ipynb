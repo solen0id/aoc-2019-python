{
 "cells": [
  {
   "cell_type": "markdown",
   "metadata": {},
   "source": [
    "Fuel required to launch a given module is based on its mass.  \n",
    "Specifically, to find the fuel required for a module, take its mass,  \n",
    "divide by three, round down, and subtract 2."
   ]
  },
  {
   "cell_type": "code",
   "execution_count": 45,
   "metadata": {},
   "outputs": [],
   "source": [
    "import time\n",
    "from pathlib import Path\n",
    "\n",
    "in_file = Path('input_aoc_1.txt')\n",
    "module_masses = in_file.read_text().split()"
   ]
  },
  {
   "cell_type": "code",
   "execution_count": 46,
   "metadata": {},
   "outputs": [
    {
     "data": {
      "text/plain": [
       "50346"
      ]
     },
     "execution_count": 46,
     "metadata": {},
     "output_type": "execute_result"
    },
    {
     "data": {
      "text/plain": [
       "50346"
      ]
     },
     "execution_count": 46,
     "metadata": {},
     "output_type": "execute_result"
    }
   ],
   "source": [
    "def calculate_required_fuel(mass):\n",
    "    return int(mass) // 3 - 2\n",
    "\n",
    "def calculate_required_fuel_recursive(mass, cumulative_fuel=0):\n",
    "    fuel = calculate_required_fuel(mass)\n",
    "    \n",
    "    if fuel <= 0:\n",
    "        return cumulative_fuel\n",
    "    \n",
    "    cumulative_fuel += fuel\n",
    "    return calculate_required_fuel_recursive(fuel, cumulative_fuel)\n",
    "\n",
    "def calculate_required_fuel_iterative(mass):\n",
    "    fuel_for_mass = calculate_required_fuel(mass)\n",
    "    fuel_for_fuel = calculate_required_fuel(fuel_for_mass)\n",
    "    \n",
    "    while fuel_for_fuel > 0:\n",
    "        fuel_for_mass += fuel_for_fuel\n",
    "        fuel_for_fuel = calculate_required_fuel(fuel_for_fuel)\n",
    "    \n",
    "    return fuel_for_mass\n",
    "    \n",
    "\n",
    "calculate_required_fuel_recursive(100756)\n",
    "calculate_required_fuel_iterative(100756)"
   ]
  },
  {
   "cell_type": "code",
   "execution_count": 76,
   "metadata": {},
   "outputs": [
    {
     "name": "stdout",
     "output_type": "stream",
     "text": [
      "Timing recursive implementation\n",
      "0.00039\n",
      "Timing iterative implementation\n",
      "0.00020\n"
     ]
    }
   ],
   "source": [
    "print(\"Timing recursive implementation\")\n",
    "start_time = time.time()\n",
    "_ = calculate_required_fuel_recursive(1e50)\n",
    "seconds_elapsed = time.time() - start_time\n",
    "print(f'{seconds_elapsed:2.5f}')\n",
    "\n",
    "print(\"Timing iterative implementation\")\n",
    "start_time = time.time()\n",
    "_ = calculate_required_fuel_iterative(1e50)\n",
    "seconds_elapsed = time.time() - start_time\n",
    "print(f'{seconds_elapsed:2.5f}')"
   ]
  },
  {
   "cell_type": "code",
   "execution_count": 30,
   "metadata": {},
   "outputs": [
    {
     "data": {
      "text/plain": [
       "4847351"
      ]
     },
     "execution_count": 30,
     "metadata": {},
     "output_type": "execute_result"
    }
   ],
   "source": [
    "required_fuel_per_module = [calculate_required_fuel_recursive(mass) for mass in module_masses]\n",
    "total_required_fuel = sum(required_fuel_per_module)\n",
    "\n",
    "total_required_fuel"
   ]
  }
 ],
 "metadata": {
  "kernelspec": {
   "display_name": "research",
   "language": "python",
   "name": "research"
  },
  "language_info": {
   "codemirror_mode": {
    "name": "ipython",
    "version": 3
   },
   "file_extension": ".py",
   "mimetype": "text/x-python",
   "name": "python",
   "nbconvert_exporter": "python",
   "pygments_lexer": "ipython3",
   "version": "3.6.2"
  }
 },
 "nbformat": 4,
 "nbformat_minor": 4
}
