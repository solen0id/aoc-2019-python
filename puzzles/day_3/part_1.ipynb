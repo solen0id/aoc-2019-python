{
 "cells": [
  {
   "cell_type": "code",
   "execution_count": 55,
   "metadata": {},
   "outputs": [],
   "source": [
    "class Point:\n",
    "    \n",
    "    def __init__(self, x, y):\n",
    "        self.x = x\n",
    "        self.y = y\n",
    "    \n",
    "    def manhatten_distance(self, other):\n",
    "        return abs(self.x - other.x) + abs(self.y - other.y)\n",
    "    \n",
    "    def __eq__(self, other):\n",
    "        return self.x == other.x and self.y == other.y\n",
    "    \n",
    "    def __hash__(self):\n",
    "        return hash((self.x, self.y))\n",
    "    \n",
    "    def __repr__(self):\n",
    "        return f'{self.__class__.__name__}({self.x}, {self.y})'\n",
    "    \n",
    "    \n",
    "\n",
    "class Segment:\n",
    "    \n",
    "    def __init__(self, start, end, points):\n",
    "        self.start = start\n",
    "        self.end = end\n",
    "        self.points = points\n",
    "       \n",
    "    @classmethod\n",
    "    def from_instruction(cls, start, instruction):        \n",
    "        direction, length = instruction[0], int(instruction[1:])\n",
    "        \n",
    "        if direction == 'R':\n",
    "            points = tuple(Point(start.x+i, start.y) for i in range(length+1))\n",
    "        \n",
    "        if direction == 'L':\n",
    "            points = tuple(Point(start.x-i, start.y) for i in range(length+1))\n",
    "        \n",
    "        if direction == 'U':\n",
    "            points = tuple(Point(start.x, start.y+i) for i in range(length+1))\n",
    "        \n",
    "        if direction == 'D':\n",
    "            points = tuple(Point(start.x, start.y-i) for i in range(length+1))\n",
    "        \n",
    "        return cls(start=points[0], end=points[-1], points=points)\n",
    "\n",
    "    \n",
    "\n",
    "class Wire:\n",
    "    \n",
    "    def __init__(self, origin, segments):\n",
    "        self.origin = origin\n",
    "        self.segments = segments\n",
    "        self.points = set(point for segment in segments for point in segment.points)\n",
    "        \n",
    "    def intersection(self, other, ignore_origin=True):\n",
    "        shared_points = self.points.intersection(other.points)\n",
    "        \n",
    "        if ignore_origin and self.origin in shared_points:\n",
    "            shared_points.remove(self.origin)\n",
    "        \n",
    "        return shared_points\n",
    "    \n",
    "    @classmethod\n",
    "    def from_instructions(cls, instructions, origin=Point(0,0)):\n",
    "        start = origin\n",
    "        segments = []\n",
    "        \n",
    "        for instruction in instructions:\n",
    "            segment = Segment.from_instruction(start, instruction)\n",
    "            segments.append(segment)\n",
    "            start = segment.end\n",
    "            \n",
    "        return cls(origin, segments)\n",
    "    "
   ]
  },
  {
   "cell_type": "code",
   "execution_count": 59,
   "metadata": {},
   "outputs": [],
   "source": [
    "from pathlib import Path\n",
    "\n",
    "instruction_1, instruction_2 = Path('./input.txt').read_text().split()\n",
    "instruction_1 = instruction_1.split(',')\n",
    "instruction_2 = instruction_2.split(',')\n",
    "\n",
    "origin = Point(0, 0)\n",
    "\n",
    "wire_1 = Wire.from_instructions(instruction_1, origin)\n",
    "wire_2 = Wire.from_instructions(instruction_2, origin)"
   ]
  },
  {
   "cell_type": "code",
   "execution_count": 58,
   "metadata": {},
   "outputs": [
    {
     "name": "stdout",
     "output_type": "stream",
     "text": [
      "[2427, 3086, 3859, 3909, 4100, 4584, 4934]\n"
     ]
    }
   ],
   "source": [
    "intersections = wire_1.intersection(wire_2, ignore_origin=True)\n",
    "distances_from_origin = [origin.manhatten_distance(intersection) for intersection in intersections]\n",
    "\n",
    "print(sorted(distances_from_origin))"
   ]
  }
 ],
 "metadata": {
  "kernelspec": {
   "display_name": "aoc",
   "language": "python",
   "name": "aoc"
  },
  "language_info": {
   "codemirror_mode": {
    "name": "ipython",
    "version": 3
   },
   "file_extension": ".py",
   "mimetype": "text/x-python",
   "name": "python",
   "nbconvert_exporter": "python",
   "pygments_lexer": "ipython3",
   "version": "3.8.0"
  }
 },
 "nbformat": 4,
 "nbformat_minor": 2
}
