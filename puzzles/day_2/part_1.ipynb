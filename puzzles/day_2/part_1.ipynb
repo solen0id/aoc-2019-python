{
 "cells": [
  {
   "cell_type": "markdown",
   "metadata": {},
   "source": [
    "**--- Day 2: 1202 Program Alarm ---**  \n",
    "\n",
    "On the way to your gravity assist around the Moon, your ship computer beeps angrily about a \"1202 program alarm\". On the radio, an Elf is already explaining how to handle the situation: \"Don't worry, that's perfectly norma--\" The ship computer bursts into flames.\n",
    "\n",
    "You notify the Elves that the computer's magic smoke seems to have escaped. \"That computer ran Intcode programs like the gravity assist program it was working on; surely there are enough spare parts up there to build a new Intcode computer!\"\n",
    "\n",
    "An Intcode program is a list of integers separated by commas (like `1,0,0,3,99`). To run one, start by looking at the first integer (called position 0). Here, you will find an opcode - either 1, 2, or 99. The opcode indicates what to do; for example, 99 means that the program is finished and should immediately halt. Encountering an unknown opcode means something went wrong.\n",
    "\n",
    "Opcode 1 adds together numbers read from two positions and stores the result in a third position. The three integers immediately after the opcode tell you these three positions - the first two indicate the positions from which you should read the input values, and the third indicates the position at which the output should be stored.\n",
    "\n",
    "For example, if your Intcode computer encounters 1,10,20,30, it should read the values at positions 10 and 20, add those values, and then overwrite the value at position 30 with their sum.\n",
    "\n",
    "Opcode 2 works exactly like opcode 1, except it multiplies the two inputs instead of adding them. Again, the three integers after the opcode indicate where the inputs and outputs are, not their values.\n",
    "\n",
    "Once you're done processing an opcode, move to the next one by stepping forward 4 positions.\n",
    "\n",
    "For example, suppose you have the following program:\n",
    "\n",
    "`1,9,10,3,2,3,11,0,99,30,40,50`\n",
    "For the purposes of illustration, here is the same program split into multiple lines:\n",
    "\n",
    "\n",
    "`1,9,10,3,`  \n",
    "`2,3,11,0,`  \n",
    "`99,`  \n",
    "`30,40,50`  \n",
    "\n",
    "The first four integers, 1,9,10,3, are at positions 0, 1, 2, and 3. Together, they represent the first opcode (1, addition), the positions of the two inputs (9 and 10), and the position of the output (3). To handle this opcode, you first need to get the values at the input positions: position 9 contains 30, and position 10 contains 40. Add these numbers together to get 70. Then, store this value at the output position; here, the output position (3) is at position 3, so it overwrites itself. Afterward, the program looks like this:\n",
    "\n",
    "`1,9,10,70,`  \n",
    "`2,3,11,0,`  \n",
    "`99,`  \n",
    "`30,40,50`  \n",
    "\n",
    "Step forward 4 positions to reach the next opcode, 2. This opcode works just like the previous, but it multiplies instead of adding. The inputs are at positions 3 and 11; these positions contain 70 and 50 respectively. Multiplying these produces 3500; this is stored at position 0:\n",
    "\n",
    "`3500,9,10,70,`  \n",
    "`2,3,11,0,`  \n",
    "`99,`  \n",
    "`30,40,50`  \n",
    "\n",
    "Stepping forward 4 more positions arrives at opcode 99, halting the program.\n",
    "\n",
    "Here are the initial and final states of a few more small programs:\n",
    "\n",
    "`1,0,0,0,99` becomes `2,0,0,0,99`, (1 + 1 = 2).  \n",
    "`2,3,0,3,99` becomes `2,3,0,6,99`, (3 * 2 = 6).  \n",
    "`2,4,4,5,99,0` becomes `2,4,4,5,99,9801`, (99 * 99 = 9801).  \n",
    "`1,1,1,4,99,5,6,0,99` becomes `30,1,1,4,2,5,6,0,99`.  \n",
    "\n",
    "   \n",
    "Once you have a working computer, the first step is to restore the gravity assist program (your puzzle input) to the \"1202 program alarm\" state it had just before the last computer caught fire. To do this, before running the program, replace position 1 with the value 12 and replace position 2 with the value 2. What value is left at position 0 after the program halts?"
   ]
  },
  {
   "cell_type": "code",
   "execution_count": 1,
   "metadata": {},
   "outputs": [],
   "source": [
    "def run_tests(fn):\n",
    "    assert fn([1,0,0,0,99]) == [2,0,0,0,99]\n",
    "    assert fn([2,3,0,3,99]) == [2,3,0,6,99]\n",
    "    assert fn([2,4,4,5,99,0]) == [2,4,4,5,99,9801]\n",
    "    assert fn([1,1,1,4,99,5,6,0,99]) == [30,1,1,4,2,5,6,0,99]\n",
    "    \n",
    "    return('success ٩(●ᴗ●)۶')\n",
    "\n",
    "     "
   ]
  },
  {
   "cell_type": "code",
   "execution_count": 10,
   "metadata": {},
   "outputs": [
    {
     "data": {
      "text/plain": [
       "'success ٩(●ᴗ●)۶'"
      ]
     },
     "execution_count": 10,
     "metadata": {},
     "output_type": "execute_result"
    }
   ],
   "source": [
    "OPERATIONS = {\n",
    "    1: lambda x, y: x + y, \n",
    "    2: lambda x, y: x * y,\n",
    "}\n",
    "\n",
    "def parse_intcode(intcode, current_idx=0):\n",
    "    opcode = intcode[current_idx]\n",
    "    \n",
    "    if opcode == 99:\n",
    "        return intcode\n",
    "    \n",
    "    operand_1_idx, operand_2_idx, result_idx = intcode[current_idx+1:current_idx+4]\n",
    "    operand_1, operand_2 = intcode[operand_1_idx], intcode[operand_2_idx]\n",
    "    operation = OPERATIONS.get(opcode)\n",
    "\n",
    "    intcode[result_idx] = operation(operand_1, operand_2)\n",
    "    \n",
    "    return parse_intcode(intcode, current_idx+4)\n",
    "    \n",
    "    \n",
    "\n",
    "        \n",
    "run_tests(parse_intcode)"
   ]
  },
  {
   "cell_type": "code",
   "execution_count": 23,
   "metadata": {},
   "outputs": [
    {
     "data": {
      "text/plain": [
       "10566835"
      ]
     },
     "execution_count": 23,
     "metadata": {},
     "output_type": "execute_result"
    }
   ],
   "source": [
    "from pathlib import Path\n",
    "\n",
    "gravity_assist = [int(elem) for elem in Path('input.txt').read_text().split(',')]\n",
    "gravity_assist[1] = 12\n",
    "gravity_assist[2] = 2\n",
    "\n",
    "parse_intcode(gravity_assist)[0]"
   ]
  }
 ],
 "metadata": {
  "kernelspec": {
   "display_name": "research",
   "language": "python",
   "name": "research"
  },
  "language_info": {
   "codemirror_mode": {
    "name": "ipython",
    "version": 3
   },
   "file_extension": ".py",
   "mimetype": "text/x-python",
   "name": "python",
   "nbconvert_exporter": "python",
   "pygments_lexer": "ipython3",
   "version": "3.6.2"
  }
 },
 "nbformat": 4,
 "nbformat_minor": 4
}
